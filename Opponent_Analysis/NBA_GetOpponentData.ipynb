{
 "cells": [
  {
   "cell_type": "markdown",
   "metadata": {},
   "source": [
    "# Get the Data of Same Opponent"
   ]
  },
  {
   "cell_type": "code",
   "execution_count": 1,
   "metadata": {},
   "outputs": [
    {
     "data": {
      "text/plain": [
       "[{'id': 1610612737,\n",
       "  'full_name': 'Atlanta Hawks',\n",
       "  'abbreviation': 'ATL',\n",
       "  'nickname': 'Hawks',\n",
       "  'city': 'Atlanta',\n",
       "  'state': 'Atlanta',\n",
       "  'year_founded': 1949},\n",
       " {'id': 1610612738,\n",
       "  'full_name': 'Boston Celtics',\n",
       "  'abbreviation': 'BOS',\n",
       "  'nickname': 'Celtics',\n",
       "  'city': 'Boston',\n",
       "  'state': 'Massachusetts',\n",
       "  'year_founded': 1946},\n",
       " {'id': 1610612739,\n",
       "  'full_name': 'Cleveland Cavaliers',\n",
       "  'abbreviation': 'CLE',\n",
       "  'nickname': 'Cavaliers',\n",
       "  'city': 'Cleveland',\n",
       "  'state': 'Ohio',\n",
       "  'year_founded': 1970}]"
      ]
     },
     "execution_count": 1,
     "metadata": {},
     "output_type": "execute_result"
    }
   ],
   "source": [
    "from nba_api.stats.static import teams\n",
    "nba_teams = teams.get_teams()\n",
    "nba_teams[:3]"
   ]
  },
  {
   "cell_type": "code",
   "execution_count": 2,
   "metadata": {},
   "outputs": [],
   "source": [
    "import json\n",
    "with open('team_list.json', 'w') as f:\n",
    "    json.dump(nba_teams, f, indent=4)"
   ]
  },
  {
   "cell_type": "markdown",
   "metadata": {},
   "source": [
    "Read the data"
   ]
  },
  {
   "cell_type": "code",
   "execution_count": 3,
   "metadata": {},
   "outputs": [],
   "source": [
    "import os\n",
    "import numpy as np\n",
    "import pandas as pd"
   ]
  },
  {
   "cell_type": "code",
   "execution_count": 4,
   "metadata": {},
   "outputs": [],
   "source": [
    "data_path = '../nba_shot/shot_data'\n",
    "result_path = './opponent_data/'"
   ]
  },
  {
   "cell_type": "code",
   "execution_count": 5,
   "metadata": {},
   "outputs": [],
   "source": [
    "# Get the file names in data path\n",
    "fnames_data = os.listdir(data_path)"
   ]
  },
  {
   "cell_type": "code",
   "execution_count": 6,
   "metadata": {},
   "outputs": [],
   "source": [
    "fpaths_data = []\n",
    "for fname in fnames_data:\n",
    "    fpath = os.path.join(data_path, fname)\n",
    "    if os.path.isfile(fpath):\n",
    "        fpaths_data.append(fpath)"
   ]
  },
  {
   "cell_type": "code",
   "execution_count": 7,
   "metadata": {},
   "outputs": [
    {
     "name": "stdout",
     "output_type": "stream",
     "text": [
      "['../nba_shot/shot_data\\\\101107.csv', '../nba_shot/shot_data\\\\101108.csv', '../nba_shot/shot_data\\\\101123.csv']\n"
     ]
    }
   ],
   "source": [
    "print(fpaths_data[:3])"
   ]
  },
  {
   "cell_type": "markdown",
   "metadata": {},
   "source": [
    "Collect the data with same opponent"
   ]
  },
  {
   "cell_type": "code",
   "execution_count": 8,
   "metadata": {
    "scrolled": true
   },
   "outputs": [],
   "source": [
    "for fpath in fpaths_data[:]:\n",
    "    df = pd.read_csv(fpath)\n",
    "    \n",
    "    # Clean the old data before 2015-2016 season\n",
    "    df = df.drop(df[df['GAME_DATE']<20151000].index, axis=0)\n",
    "    \n",
    "    for team in nba_teams:\n",
    "        df.loc[df['HTM'] == team['abbreviation'], 'HTM_ID'] = team['id']\n",
    "        df.loc[df['VTM'] == team['abbreviation'], 'VTM_ID'] = team['id']\n",
    "\n",
    "    df[['HTM_ID', 'VTM_ID']] = df[['HTM_ID', 'VTM_ID']].astype('int64')\n",
    "    \n",
    "    df.loc[df['HTM_ID']==df['TEAM_ID'], 'OPPONENT_TEAM_ID'] = df['VTM_ID']\n",
    "    df.loc[df['HTM_ID']==df['TEAM_ID'], 'OPPONENT_TEAM_NAME'] = df['VTM']\n",
    "    df.loc[df['HTM_ID']!=df['TEAM_ID'], 'OPPONENT_TEAM_ID'] = df['HTM_ID']\n",
    "    df.loc[df['HTM_ID']!=df['TEAM_ID'], 'OPPONENT_TEAM_NAME'] = df['HTM']\n",
    "    df['OPPONENT_TEAM_ID'] = df['OPPONENT_TEAM_ID'].astype('int64')\n",
    "\n",
    "    for opponent in df['OPPONENT_TEAM_ID'].unique():\n",
    "        fname = os.path.join(result_path, str(opponent)+'.csv')\n",
    "        \n",
    "        df_opponent = df[df['OPPONENT_TEAM_ID']==opponent]\n",
    "        \n",
    "        if not os.path.isfile(fname):\n",
    "            df_opponent.to_csv(fname, mode='a', index=False, header=True)\n",
    "        else:\n",
    "            df_opponent.to_csv(fname, mode='a', index=False, header=False)"
   ]
  },
  {
   "cell_type": "code",
   "execution_count": null,
   "metadata": {},
   "outputs": [],
   "source": []
  }
 ],
 "metadata": {
  "kernelspec": {
   "display_name": "Python 3",
   "language": "python",
   "name": "python3"
  },
  "language_info": {
   "codemirror_mode": {
    "name": "ipython",
    "version": 3
   },
   "file_extension": ".py",
   "mimetype": "text/x-python",
   "name": "python",
   "nbconvert_exporter": "python",
   "pygments_lexer": "ipython3",
   "version": "3.7.5"
  }
 },
 "nbformat": 4,
 "nbformat_minor": 2
}
