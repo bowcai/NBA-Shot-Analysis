{
 "cells": [
  {
   "cell_type": "markdown",
   "metadata": {},
   "source": [
    "# Get Data from NBA Official API"
   ]
  },
  {
   "cell_type": "code",
   "execution_count": 1,
   "metadata": {},
   "outputs": [],
   "source": [
    "from nba_api.stats.static import players\n",
    "from nba_api.stats.endpoints import shotchartdetail"
   ]
  },
  {
   "cell_type": "code",
   "execution_count": 2,
   "metadata": {},
   "outputs": [],
   "source": [
    "active_players = players.get_active_players()"
   ]
  },
  {
   "cell_type": "code",
   "execution_count": 3,
   "metadata": {},
   "outputs": [
    {
     "data": {
      "text/plain": [
       "502"
      ]
     },
     "execution_count": 3,
     "metadata": {},
     "output_type": "execute_result"
    }
   ],
   "source": [
    "len(active_players)"
   ]
  },
  {
   "cell_type": "code",
   "execution_count": 4,
   "metadata": {},
   "outputs": [],
   "source": [
    "import json\n",
    "with open('active_players.json', 'w') as f:\n",
    "    json.dump(active_players, f, indent=4)"
   ]
  },
  {
   "cell_type": "code",
   "execution_count": 11,
   "metadata": {
    "scrolled": false
   },
   "outputs": [],
   "source": [
    "for select_player in active_players[79:]:\n",
    "    i = 0\n",
    "    while i < 3:\n",
    "        try:\n",
    "            allshots = shotchartdetail.ShotChartDetail(team_id=0,player_id=select_player['id'], context_measure_simple='FGA')\n",
    "            break\n",
    "        except:\n",
    "            i += 1\n",
    "    \n",
    "    if i == 3:\n",
    "        raise Exception('Connection Error after trying 3 times')\n",
    "        \n",
    "    shots_frame = allshots.get_data_frames()[0]\n",
    "    if shots_frame.shape[0] > 200:\n",
    "        shots_frame.to_csv(path_or_buf = 'shot_data\\\\'+str(select_player['id'])+'.csv',index=False)"
   ]
  },
  {
   "cell_type": "code",
   "execution_count": null,
   "metadata": {},
   "outputs": [],
   "source": []
  }
 ],
 "metadata": {
  "kernelspec": {
   "display_name": "Python 3",
   "language": "python",
   "name": "python3"
  },
  "language_info": {
   "codemirror_mode": {
    "name": "ipython",
    "version": 3
   },
   "file_extension": ".py",
   "mimetype": "text/x-python",
   "name": "python",
   "nbconvert_exporter": "python",
   "pygments_lexer": "ipython3",
   "version": "3.7.5"
  }
 },
 "nbformat": 4,
 "nbformat_minor": 2
}
