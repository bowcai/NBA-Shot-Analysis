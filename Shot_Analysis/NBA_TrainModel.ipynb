{
 "cells": [
  {
   "cell_type": "markdown",
   "metadata": {},
   "source": [
    "# Train Models for Different Players\n",
    "We will use Logistic Regression to train the shot data of different NBA players, and record the coefficients into a file."
   ]
  },
  {
   "cell_type": "markdown",
   "metadata": {},
   "source": [
    "### 1. Read the data"
   ]
  },
  {
   "cell_type": "code",
   "execution_count": 1,
   "metadata": {},
   "outputs": [],
   "source": [
    "import os"
   ]
  },
  {
   "cell_type": "markdown",
   "metadata": {},
   "source": [
    "Specify data path"
   ]
  },
  {
   "cell_type": "code",
   "execution_count": 2,
   "metadata": {},
   "outputs": [],
   "source": [
    "data_path = './shot_data'"
   ]
  },
  {
   "cell_type": "markdown",
   "metadata": {},
   "source": [
    "Get the file name of all players"
   ]
  },
  {
   "cell_type": "code",
   "execution_count": 3,
   "metadata": {},
   "outputs": [],
   "source": [
    "fname_list = os.listdir(data_path)\n",
    "fpath_list = []\n",
    "id_list = []\n",
    "for fname in fname_list:\n",
    "    fpath = os.path.join(data_path, fname)\n",
    "    if os.path.isfile(fpath):\n",
    "        fpath_list.append(fpath)\n",
    "        id_list.append(int(os.path.splitext(fname)[0]))"
   ]
  },
  {
   "cell_type": "code",
   "execution_count": 4,
   "metadata": {},
   "outputs": [
    {
     "name": "stdout",
     "output_type": "stream",
     "text": [
      "[101107, 101108, 101123, 101133, 101139, 101141, 101150, 1626143, 1626144, 1626145, 1626149, 1626153, 1626156, 1626157, 1626158, 1626159, 1626161, 1626162, 1626163, 1626164, 1626167, 1626168, 1626169, 1626171, 1626172, 1626174, 1626178, 1626179, 1626181, 1626188, 1626192, 1626195, 1626196, 1626203, 1626204, 1626209, 1626220, 1626224, 1626245, 1626246, 1627732, 1627733, 1627734, 1627736, 1627737, 1627739, 1627740, 1627741, 1627742, 1627745, 1627746, 1627747, 1627748, 1627749, 1627750, 1627751, 1627752, 1627756, 1627759, 1627761, 1627763, 1627767, 1627774, 1627775, 1627777, 1627783, 1627788, 1627789, 1627790, 1627812, 1627814, 1627820, 1627823, 1627826, 1627827, 1627832, 1627846, 1627853, 1627854, 1627863, 1627884, 1627885, 1627936, 1628021, 1628035, 1628365, 1628366, 1628367, 1628368, 1628369, 1628370, 1628371, 1628372, 1628373, 1628374, 1628378, 1628379, 1628380, 1628381, 1628382, 1628384, 1628385, 1628386, 1628388, 1628389, 1628390, 1628391, 1628395, 1628397, 1628398, 1628400, 1628401, 1628402, 1628404, 1628407, 1628411, 1628412, 1628415, 1628418, 1628420, 1628422, 1628425, 1628436, 1628464, 1628467, 1628470, 1628960, 1628963, 1628964, 1628966, 1628969, 1628970, 1628971, 1628972, 1628973, 1628975, 1628976, 1628977, 1628978, 1628983, 1628984, 1628988, 1628989, 1628990, 1628991, 1628995, 1629001, 1629004, 1629006, 1629010, 1629011, 1629012, 1629013, 1629014, 1629016, 1629019, 1629021, 1629023, 1629026, 1629027, 1629028, 1629029, 1629059, 1629060, 1629066, 1629130, 1629134, 1629628, 1629629, 1629630, 1629631, 1629632, 1629633, 1629636, 1629639, 1629672, 1629673, 1713, 200746, 200752, 200755, 200757, 200765, 200768, 200782, 200794, 200826, 201142, 201143, 201144, 201145, 201152, 201158, 201162, 201163, 201188, 201229, 201565, 201566, 201567, 201568, 201569, 201571, 201572, 201577, 201580, 201583, 201584, 201586, 201587, 201588, 201599, 201609, 201933, 201935, 201937, 201939, 201942, 201949, 201950, 201952, 201959, 201960, 201961, 201976, 201980, 201988, 202066, 202083, 202322, 202323, 202324, 202326, 202329, 202330, 202331, 202334, 202335, 202339, 202340, 202355, 202357, 202397, 202681, 202683, 202684, 202685, 202687, 202688, 202689, 202691, 202692, 202693, 202694, 202695, 202696, 202699, 202704, 202709, 202710, 202711, 202718, 202722, 202734, 202738, 202954, 203076, 203077, 203078, 203079, 203081, 203082, 203083, 203084, 203085, 203086, 203087, 203089, 203090, 203095, 203107, 203109, 203110, 203114, 203115, 203118, 203121, 203124, 203145, 203200, 203210, 203382, 203457, 203458, 203459, 203460, 203463, 203468, 203469, 203471, 203473, 203476, 203482, 203484, 203486, 203487, 203488, 203490, 203493, 203496, 203497, 203500, 203501, 203503, 203504, 203506, 203507, 203516, 203521, 203524, 203526, 203552, 203584, 203585, 203894, 203895, 203897, 203901, 203903, 203914, 203915, 203918, 203920, 203922, 203924, 203925, 203926, 203932, 203933, 203935, 203937, 203939, 203943, 203944, 203952, 203953, 203954, 203957, 203960, 203967, 203991, 203992, 203994, 203998, 203999, 204001, 204020, 204025, 204038, 204060, 204456, 2199, 2200, 2403, 2544, 2594, 2617, 2730, 2738, 2772]\n"
     ]
    }
   ],
   "source": [
    "print(id_list)"
   ]
  },
  {
   "cell_type": "markdown",
   "metadata": {},
   "source": [
    "### 2. The functions to process the data"
   ]
  },
  {
   "cell_type": "code",
   "execution_count": 5,
   "metadata": {},
   "outputs": [],
   "source": [
    "import csv\n",
    "import numpy as np\n",
    "import pandas as pd\n",
    "from sklearn.preprocessing import StandardScaler\n",
    "from sklearn.linear_model import LogisticRegression"
   ]
  },
  {
   "cell_type": "markdown",
   "metadata": {},
   "source": [
    "The features we used in training models"
   ]
  },
  {
   "cell_type": "code",
   "execution_count": 6,
   "metadata": {},
   "outputs": [],
   "source": [
    "combinedshottype_list = ['COMBINED_SHOT_TYPE_Jump Shot', \n",
    "               'COMBINED_SHOT_TYPE_Layup', 'COMBINED_SHOT_TYPE_Dunk', 'COMBINED_SHOT_TYPE_Tip Shot',\n",
    "               'COMBINED_SHOT_TYPE_Hook Shot', 'COMBINED_SHOT_TYPE_Bank Shot']\n",
    "feature_list = ['PERIOD', 'REMAIN_TIME', 'DIST', 'ANGLE'] + combinedshottype_list"
   ]
  },
  {
   "cell_type": "markdown",
   "metadata": {},
   "source": [
    "Data Cleaning"
   ]
  },
  {
   "cell_type": "code",
   "execution_count": 7,
   "metadata": {},
   "outputs": [],
   "source": [
    "def clean_data(df_old, feature_list):\n",
    "    df = df_old.copy()\n",
    "    \n",
    "    # Change the action type into combined shot type\n",
    "    action={'Jump Shot': 'Jump Shot', 'Driving Dunk Shot': 'Dunk', 'Layup Shot':'Layup',\n",
    "           'Running Jump Shot':'Jump Shot', 'Reverse Dunk Shot':'Dunk', 'Slam Dunk Shot':'Dunk',\n",
    "           'Driving Layup Shot':'Layup', 'Turnaround Jump Shot':'Jump Shot', 'Reverse Layup Shot':'Layup',\n",
    "           'Tip Shot':'Tip Shot', 'Running Hook Shot':'Hook Shot', 'Alley Oop Dunk Shot':'Dunk',\n",
    "           'Dunk Shot':'Dunk', 'Alley Oop Layup shot':'Layup', 'Running Dunk Shot':'Dunk',\n",
    "           'Driving Finger Roll Shot':'Layup', 'Running Layup Shot':'Layup',\n",
    "           'Finger Roll Shot':'Layup', 'Fadeaway Jump Shot':'Jump Shot', 'Follow Up Dunk Shot':'Dunk',\n",
    "           'Hook Shot':'Hook Shot', 'Turnaround Hook Shot':'Hook Shot', 'Jump Hook Shot':'Jump Shot',\n",
    "           'Running Finger Roll Shot':'Layup', 'Jump Bank Shot':'Jump Shot',\n",
    "           'Turnaround Finger Roll Shot':'Layup', 'Hook Bank Shot':'Bank Shot',\n",
    "           'Driving Hook Shot':'Hook Shot', 'Running Tip Shot':'Tip Shot',\n",
    "           'Running Reverse Layup Shot':'Layup', 'Driving Finger Roll Layup Shot':'Layup',\n",
    "           'Fadeaway Bank shot':'Bank Shot', 'Pullup Jump shot':'Jump Shot', 'Finger Roll Layup Shot':'Layup',\n",
    "           'Turnaround Fadeaway shot':'Jump Shot', 'Driving Reverse Layup Shot':'Layup',\n",
    "           'Driving Slam Dunk Shot':'Dunk', 'Step Back Jump shot':'Jump Shot',\n",
    "           'Turnaround Bank shot':'Bank Shot', 'Reverse Slam Dunk Shot':'Dunk',\n",
    "           'Floating Jump shot':'Jump Shot', 'Putback Slam Dunk Shot':'Dunk',\n",
    "           'Running Bank shot':'Bank Shot', 'Driving Bank shot':'Bank Shot', 'Driving Jump shot':'Jump Shot',\n",
    "           'Putback Layup Shot':'Layup', 'Putback Dunk Shot':'Dunk',\n",
    "           'Running Finger Roll Layup Shot':'Layup', 'Pullup Bank shot':'Bank Shot',\n",
    "           'Running Slam Dunk Shot':'Dunk', 'Cutting Layup Shot':'Layup',\n",
    "           'Driving Floating Jump Shot':'Jump Shot', 'Running Pull-Up Jump Shot':'Jump Shot',\n",
    "           'Tip Layup Shot':'Layup', 'Driving Floating Bank Jump Shot':'Jump Shot',\n",
    "           'Cutting Finger Roll Layup Shot':'Layup', 'Turnaround Fadeaway Bank Jump Shot':'Jump Shot',\n",
    "           'Step Back Bank Jump Shot':'Jump Shot', 'Cutting Dunk Shot':'Dunk', 'Running Bank Hook Shot': 'Hook Shot', \n",
    "            'Turnaround Bank Hook Shot': 'Hook Shot', 'Tip Dunk Shot': 'Dunk', 'Driving Reverse Dunk Shot': 'Dunk', \n",
    "           'Jump Bank Hook Shot': 'Jump Shot', 'Driving Bank Hook Shot': 'Bank Shot', 'No Shot': 'Jump Shot', \n",
    "           'Running Alley Oop Layup Shot': 'Layup', 'Running Alley Oop Dunk Shot': 'Dunk', \n",
    "           'Running Reverse Dunk Shot':'Dunk', 'Putback Reverse Dunk Shot': 'Dunk'}\n",
    "    \n",
    "    df['COMBINED_SHOT_TYPE']=df.ACTION_TYPE.apply(lambda x:action[x])\n",
    "    df=df.drop('ACTION_TYPE', axis=1)\n",
    "    \n",
    "    # Combine the minutes_remaining and seconds_remaining into remain_time\n",
    "    df['REMAIN_TIME'] = df['MINUTES_REMAINING'] * 60 + df['SECONDS_REMAINING']\n",
    "    df = df.drop(['MINUTES_REMAINING', 'SECONDS_REMAINING'], axis = 1)\n",
    "    \n",
    "    # Compute the shot distance and shot angle from loc_x and loc_y\n",
    "    df['DIST']=(df.LOC_X**2+df.LOC_Y**2)**0.5\n",
    "    df['ANGLE']=np.arctan2(df.LOC_X,df.LOC_Y)/np.pi*180.0\n",
    "    \n",
    "    # Use the one-hot coding for combined_shot_type\n",
    "    features_onehot = ['COMBINED_SHOT_TYPE']\n",
    "    for i in features_onehot:\n",
    "        df = pd.concat([df, pd.get_dummies(df[i],prefix=i)], 1)\n",
    "        df = df.drop(i, 1)\n",
    "    \n",
    "    # If the column of required feature is empty, fill the column with 0\n",
    "    for i in feature_list:\n",
    "        if i not in df.columns.values:\n",
    "            df[i] = 0\n",
    "    \n",
    "    # Exclude the shot from back court\n",
    "    df = df[df.DIST < 320.0]\n",
    "    \n",
    "    # Extract required features from data frame\n",
    "    df = df[feature_list+['SHOT_MADE_FLAG']]\n",
    "    \n",
    "    return df"
   ]
  },
  {
   "cell_type": "markdown",
   "metadata": {},
   "source": [
    "Function to train the model"
   ]
  },
  {
   "cell_type": "code",
   "execution_count": 8,
   "metadata": {},
   "outputs": [],
   "source": [
    "def TrainModel(df, scaler=None):\n",
    "    X = df.drop('SHOT_MADE_FLAG', axis=1)\n",
    "    y = df['SHOT_MADE_FLAG']\n",
    "    \n",
    "    # Use the given scaler to transform features into same magnitude\n",
    "    if scaler != None:\n",
    "        X = scaler.transform(X)\n",
    "    \n",
    "    clf = LogisticRegression(C=1.0, max_iter=300, solver='lbfgs')\n",
    "    clf.fit(X, y)\n",
    "    \n",
    "    # Change the data type of coefficients into float\n",
    "    coef = clf.coef_[0]\n",
    "    coef = list(map(float, coef))\n",
    "    intercept = float(clf.intercept_[0])\n",
    "    \n",
    "    return coef, intercept"
   ]
  },
  {
   "cell_type": "markdown",
   "metadata": {},
   "source": [
    "Begin training for all players  \n",
    "Save the coefficients into a csv file"
   ]
  },
  {
   "cell_type": "code",
   "execution_count": 9,
   "metadata": {},
   "outputs": [],
   "source": [
    "with open('Players_Model.csv', 'w', newline='') as f_rslt:\n",
    "    writer = csv.writer(f_rslt)\n",
    "    writer.writerow(['PLAYER_ID', 'PLAYER_NAME'] + feature_list + ['INTERCEPT'])\n",
    "    for i in range(len(fpath_list[:])):\n",
    "        df = pd.read_csv(fpath_list[i])\n",
    "        player_id = int(df.PLAYER_ID[0])\n",
    "        player_name = str(df.PLAYER_NAME[0])\n",
    "        df = clean_data(df, feature_list)\n",
    "        if i == 0:\n",
    "            X = df.drop('SHOT_MADE_FLAG', axis=1)\n",
    "            scaler = StandardScaler().fit(X)\n",
    "        coef, intercept = TrainModel(df, scaler)\n",
    "        writer.writerow([player_id, player_name] + coef + [intercept])"
   ]
  },
  {
   "cell_type": "code",
   "execution_count": null,
   "metadata": {},
   "outputs": [],
   "source": []
  }
 ],
 "metadata": {
  "kernelspec": {
   "display_name": "Python 3",
   "language": "python",
   "name": "python3"
  },
  "language_info": {
   "codemirror_mode": {
    "name": "ipython",
    "version": 3
   },
   "file_extension": ".py",
   "mimetype": "text/x-python",
   "name": "python",
   "nbconvert_exporter": "python",
   "pygments_lexer": "ipython3",
   "version": "3.7.5"
  }
 },
 "nbformat": 4,
 "nbformat_minor": 2
}
