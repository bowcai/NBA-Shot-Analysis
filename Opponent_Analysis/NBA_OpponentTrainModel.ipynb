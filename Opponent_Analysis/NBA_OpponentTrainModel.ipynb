{
 "cells": [
  {
   "cell_type": "markdown",
   "metadata": {},
   "source": [
    "# Train Models for Different Opponents\n",
    "We will use Logistic Regression to train the shot data of different opponents, and record the coefficients into a file.  \n",
    "Apply the same process to opponents instead of players, we may find the characteristics or weaknesses of a team.  "
   ]
  },
  {
   "cell_type": "markdown",
   "metadata": {},
   "source": [
    "### 1. Read the data"
   ]
  },
  {
   "cell_type": "code",
   "execution_count": 1,
   "metadata": {},
   "outputs": [],
   "source": [
    "import os"
   ]
  },
  {
   "cell_type": "markdown",
   "metadata": {},
   "source": [
    "Specify data path"
   ]
  },
  {
   "cell_type": "code",
   "execution_count": 2,
   "metadata": {},
   "outputs": [],
   "source": [
    "data_path = './opponent_data'"
   ]
  },
  {
   "cell_type": "markdown",
   "metadata": {},
   "source": [
    "Get the file name of all opponents"
   ]
  },
  {
   "cell_type": "code",
   "execution_count": 3,
   "metadata": {},
   "outputs": [],
   "source": [
    "fname_list = os.listdir(data_path)\n",
    "fpath_list = []\n",
    "teamid_list = []\n",
    "for fname in fname_list:\n",
    "    fpath = os.path.join(data_path, fname)\n",
    "    if os.path.isfile(fpath):\n",
    "        fpath_list.append(fpath)\n",
    "        teamid_list.append(int(os.path.splitext(fname)[0]))"
   ]
  },
  {
   "cell_type": "code",
   "execution_count": 4,
   "metadata": {},
   "outputs": [
    {
     "name": "stdout",
     "output_type": "stream",
     "text": [
      "[1610612737, 1610612738, 1610612739, 1610612740, 1610612741, 1610612742, 1610612743, 1610612744, 1610612745, 1610612746, 1610612747, 1610612748, 1610612749, 1610612750, 1610612751, 1610612752, 1610612753, 1610612754, 1610612755, 1610612756, 1610612757, 1610612758, 1610612759, 1610612760, 1610612761, 1610612762, 1610612763, 1610612764, 1610612765, 1610612766]\n"
     ]
    }
   ],
   "source": [
    "print(teamid_list)"
   ]
  },
  {
   "cell_type": "markdown",
   "metadata": {},
   "source": [
    "### 2. The functions to process the data"
   ]
  },
  {
   "cell_type": "code",
   "execution_count": 5,
   "metadata": {
    "scrolled": false
   },
   "outputs": [],
   "source": [
    "import csv\n",
    "import numpy as np\n",
    "import pandas as pd\n",
    "from sklearn.preprocessing import StandardScaler\n",
    "from sklearn.linear_model import LogisticRegression"
   ]
  },
  {
   "cell_type": "markdown",
   "metadata": {},
   "source": [
    "The features we used in training models  \n",
    "From 2015-2016 season, NBA shot data does not contain any record whose \"combined shot type\" is \"Tip shot\". So we exclude the feature of \"COMBINED_SHOT_TYPE_Tip shot\"."
   ]
  },
  {
   "cell_type": "code",
   "execution_count": 6,
   "metadata": {},
   "outputs": [],
   "source": [
    "combinedshottype_list = ['COMBINED_SHOT_TYPE_Jump Shot', \n",
    "               'COMBINED_SHOT_TYPE_Layup', 'COMBINED_SHOT_TYPE_Dunk', \n",
    "               'COMBINED_SHOT_TYPE_Hook Shot', 'COMBINED_SHOT_TYPE_Bank Shot']\n",
    "feature_list = ['PERIOD', 'REMAIN_TIME', 'DIST', 'ANGLE'] + combinedshottype_list"
   ]
  },
  {
   "cell_type": "markdown",
   "metadata": {},
   "source": [
    "Data Cleaning"
   ]
  },
  {
   "cell_type": "code",
   "execution_count": 7,
   "metadata": {},
   "outputs": [],
   "source": [
    "def clean_data(df_old, feature_list):\n",
    "    df = df_old.copy()\n",
    "    \n",
    "    # Change the action type into combined shot type\n",
    "    action={'Jump Shot': 'Jump Shot', 'Driving Dunk Shot': 'Dunk', 'Layup Shot':'Layup',\n",
    "           'Running Jump Shot':'Jump Shot', 'Reverse Dunk Shot':'Dunk', 'Slam Dunk Shot':'Dunk',\n",
    "           'Driving Layup Shot':'Layup', 'Turnaround Jump Shot':'Jump Shot', 'Reverse Layup Shot':'Layup',\n",
    "           'Tip Shot':'Tip Shot', 'Running Hook Shot':'Hook Shot', 'Alley Oop Dunk Shot':'Dunk',\n",
    "           'Dunk Shot':'Dunk', 'Alley Oop Layup shot':'Layup', 'Running Dunk Shot':'Dunk',\n",
    "           'Driving Finger Roll Shot':'Layup', 'Running Layup Shot':'Layup',\n",
    "           'Finger Roll Shot':'Layup', 'Fadeaway Jump Shot':'Jump Shot', 'Follow Up Dunk Shot':'Dunk',\n",
    "           'Hook Shot':'Hook Shot', 'Turnaround Hook Shot':'Hook Shot', 'Jump Hook Shot':'Jump Shot',\n",
    "           'Running Finger Roll Shot':'Layup', 'Jump Bank Shot':'Jump Shot',\n",
    "           'Turnaround Finger Roll Shot':'Layup', 'Hook Bank Shot':'Bank Shot',\n",
    "           'Driving Hook Shot':'Hook Shot', 'Running Tip Shot':'Tip Shot',\n",
    "           'Running Reverse Layup Shot':'Layup', 'Driving Finger Roll Layup Shot':'Layup',\n",
    "           'Fadeaway Bank shot':'Bank Shot', 'Pullup Jump shot':'Jump Shot', 'Finger Roll Layup Shot':'Layup',\n",
    "           'Turnaround Fadeaway shot':'Jump Shot', 'Driving Reverse Layup Shot':'Layup',\n",
    "           'Driving Slam Dunk Shot':'Dunk', 'Step Back Jump shot':'Jump Shot',\n",
    "           'Turnaround Bank shot':'Bank Shot', 'Reverse Slam Dunk Shot':'Dunk',\n",
    "           'Floating Jump shot':'Jump Shot', 'Putback Slam Dunk Shot':'Dunk',\n",
    "           'Running Bank shot':'Bank Shot', 'Driving Bank shot':'Bank Shot', 'Driving Jump shot':'Jump Shot',\n",
    "           'Putback Layup Shot':'Layup', 'Putback Dunk Shot':'Dunk',\n",
    "           'Running Finger Roll Layup Shot':'Layup', 'Pullup Bank shot':'Bank Shot',\n",
    "           'Running Slam Dunk Shot':'Dunk', 'Cutting Layup Shot':'Layup',\n",
    "           'Driving Floating Jump Shot':'Jump Shot', 'Running Pull-Up Jump Shot':'Jump Shot',\n",
    "           'Tip Layup Shot':'Layup', 'Driving Floating Bank Jump Shot':'Jump Shot',\n",
    "           'Cutting Finger Roll Layup Shot':'Layup', 'Turnaround Fadeaway Bank Jump Shot':'Jump Shot',\n",
    "           'Step Back Bank Jump Shot':'Jump Shot', 'Cutting Dunk Shot':'Dunk', 'Running Bank Hook Shot': 'Hook Shot', \n",
    "            'Turnaround Bank Hook Shot': 'Hook Shot', 'Tip Dunk Shot': 'Dunk', 'Driving Reverse Dunk Shot': 'Dunk', \n",
    "           'Jump Bank Hook Shot': 'Jump Shot', 'Driving Bank Hook Shot': 'Bank Shot', 'No Shot': 'Jump Shot', \n",
    "           'Running Alley Oop Layup Shot': 'Layup', 'Running Alley Oop Dunk Shot': 'Dunk', \n",
    "           'Running Reverse Dunk Shot':'Dunk', 'Putback Reverse Dunk Shot': 'Dunk'}\n",
    "    \n",
    "    df['COMBINED_SHOT_TYPE']=df.ACTION_TYPE.apply(lambda x:action[x])\n",
    "    df=df.drop('ACTION_TYPE', axis=1)\n",
    "    \n",
    "    # Combine the minutes_remaining and seconds_remaining into remain_time\n",
    "    df['REMAIN_TIME'] = df['MINUTES_REMAINING'] * 60 + df['SECONDS_REMAINING']\n",
    "    df = df.drop(['MINUTES_REMAINING', 'SECONDS_REMAINING'], axis = 1)\n",
    "    \n",
    "    # Compute the shot distance and shot angle from loc_x and loc_y\n",
    "    df['DIST']=(df.LOC_X**2+df.LOC_Y**2)**0.5\n",
    "    df['ANGLE']=np.arctan2(df.LOC_X,df.LOC_Y)/np.pi*180.0\n",
    "    \n",
    "    # Use the one-hot coding for combined_shot_type\n",
    "    features_onehot = ['COMBINED_SHOT_TYPE']\n",
    "    for i in features_onehot:\n",
    "        df = pd.concat([df, pd.get_dummies(df[i],prefix=i)], 1)\n",
    "        df = df.drop(i, 1)\n",
    "    \n",
    "    # If the column of required feature is empty, fill the column with 0\n",
    "    for i in feature_list:\n",
    "        if i not in df.columns.values:\n",
    "            df[i] = 0\n",
    "    \n",
    "    # Exclude the shot from back court\n",
    "    df = df[df.DIST < 320.0]\n",
    "    \n",
    "    # Extract required features from data frame\n",
    "    df = df[feature_list+['SHOT_MADE_FLAG']]\n",
    "    \n",
    "    return df"
   ]
  },
  {
   "cell_type": "markdown",
   "metadata": {},
   "source": [
    "Function to train the model"
   ]
  },
  {
   "cell_type": "code",
   "execution_count": 8,
   "metadata": {},
   "outputs": [],
   "source": [
    "def TrainModel(df, scaler=None):\n",
    "    X = df.drop('SHOT_MADE_FLAG', axis=1)\n",
    "    y = df['SHOT_MADE_FLAG']\n",
    "    \n",
    "    # Use the given scaler to transform features into same magnitude\n",
    "    if scaler != None:\n",
    "        X = scaler.transform(X)\n",
    "    \n",
    "    clf = LogisticRegression(C=1.0, max_iter=300, solver='lbfgs')\n",
    "    clf.fit(X, y)\n",
    "    \n",
    "    # Change the data type of coefficients into float\n",
    "    coef = clf.coef_[0]\n",
    "    coef = list(map(float, coef))\n",
    "    intercept = float(clf.intercept_[0])\n",
    "    \n",
    "    return coef, intercept"
   ]
  },
  {
   "cell_type": "markdown",
   "metadata": {},
   "source": [
    "Begin training for all opponents  \n",
    "Save the coefficients into a csv file"
   ]
  },
  {
   "cell_type": "code",
   "execution_count": 9,
   "metadata": {},
   "outputs": [],
   "source": [
    "with open('Opponents_Model.csv', 'w', newline='') as f_rslt:\n",
    "    writer = csv.writer(f_rslt)\n",
    "    writer.writerow(['OPPONENT_TEAM_ID', 'OPPONENT_TEAM_NAME'] + feature_list + ['INTERCEPT'])\n",
    "    for i in range(len(fpath_list[:])):\n",
    "        df = pd.read_csv(fpath_list[i])\n",
    "        opponent_id = int(df.OPPONENT_TEAM_ID[0])\n",
    "        opponent_name = str(df.OPPONENT_TEAM_NAME[0])\n",
    "        df = clean_data(df, feature_list)\n",
    "        if i == 0:\n",
    "            X = df.drop('SHOT_MADE_FLAG', axis=1)\n",
    "            scaler = StandardScaler().fit(X)\n",
    "        coef, intercept = TrainModel(df, scaler)\n",
    "        writer.writerow([opponent_id, opponent_name] + coef + [intercept])"
   ]
  },
  {
   "cell_type": "code",
   "execution_count": null,
   "metadata": {},
   "outputs": [],
   "source": []
  }
 ],
 "metadata": {
  "kernelspec": {
   "display_name": "Python 3",
   "language": "python",
   "name": "python3"
  },
  "language_info": {
   "codemirror_mode": {
    "name": "ipython",
    "version": 3
   },
   "file_extension": ".py",
   "mimetype": "text/x-python",
   "name": "python",
   "nbconvert_exporter": "python",
   "pygments_lexer": "ipython3",
   "version": "3.7.5"
  }
 },
 "nbformat": 4,
 "nbformat_minor": 2
}
